{
 "cells": [
  {
   "cell_type": "code",
   "execution_count": 1,
   "id": "b189b6b0-3f89-4c70-9417-9a1a05b0b6f1",
   "metadata": {},
   "outputs": [
    {
     "name": "stdout",
     "output_type": "stream",
     "text": [
      "(1975, 50)\n",
      "(1975, 2)\n"
     ]
    }
   ],
   "source": [
    "import pandas as pd\n",
    "import numpy as np\n",
    "from sklearn.model_selection import train_test_split\n",
    "from sklearn.svm import SVC\n",
    "from sklearn.metrics import accuracy_score\n",
    "\n",
    "# Load feature and target data\n",
    "features = pd.read_csv(r\"D:\\JN\\data set\\created dataset\\ECG_PCG_LR_50Features.csv\", header=None, skiprows=[0])  # Adjust header based on your CSV format\n",
    "targets = pd.read_csv(r'D:\\JN\\data set\\data from web\\Reference_aug.csv', header=None)\n",
    "\n",
    "print(features.shape)\n",
    "print(targets.shape)\n",
    "\n",
    "# Extract target column\n",
    "y = targets.iloc[:, -1]  # Selecting the last column\n",
    "X = features  # All feature columns\n",
    "\n",
    "# Split data into training and testing sets\n",
    "X_train, X_test, y_train, y_test = train_test_split(X, y, test_size=0.2, random_state=42)"
   ]
  },
  {
   "cell_type": "markdown",
   "id": "30b09913-6d1b-47e0-bacb-4cbcdd921be9",
   "metadata": {},
   "source": [
    "# algo"
   ]
  },
  {
   "cell_type": "code",
   "execution_count": 2,
   "id": "b6b42398-2d38-4fd8-b36a-ea44438f8ce5",
   "metadata": {},
   "outputs": [
    {
     "name": "stdout",
     "output_type": "stream",
     "text": [
      "Training Accuracy: 61.90%\n",
      "Testing Accuracy: 55.95%\n",
      "\n",
      "Classification Report (on test data):\n",
      "              precision    recall  f1-score   support\n",
      "\n",
      "          -1       0.53      0.68      0.60       190\n",
      "           1       0.60      0.45      0.51       205\n",
      "\n",
      "    accuracy                           0.56       395\n",
      "   macro avg       0.57      0.56      0.56       395\n",
      "weighted avg       0.57      0.56      0.55       395\n",
      "\n"
     ]
    }
   ],
   "source": [
    "from sklearn.metrics import accuracy_score, classification_report, confusion_matrix\n",
    "\n",
    "##  LogisticRegression\n",
    "from sklearn.linear_model import LogisticRegression\n",
    "\n",
    "model = LogisticRegression()\n",
    "model.fit(X_train, y_train)\n",
    "# Predict on training and testing data\n",
    "y_train_pred = model.predict(X_train)\n",
    "y_test_pred = model.predict(X_test)\n",
    "\n",
    "# Accuracy scores\n",
    "train_accuracy = accuracy_score(y_train, y_train_pred) * 100\n",
    "test_accuracy = accuracy_score(y_test, y_test_pred) * 100\n",
    "\n",
    "# Print results\n",
    "print(f\"Training Accuracy: {train_accuracy:.2f}%\")\n",
    "print(f\"Testing Accuracy: {test_accuracy:.2f}%\\n\")\n",
    "\n",
    "print(\"Classification Report (on test data):\")\n",
    "print(classification_report(y_test, y_test_pred))"
   ]
  },
  {
   "cell_type": "code",
   "execution_count": 3,
   "id": "7e34a15e-a264-42c1-a821-1bce7e407994",
   "metadata": {},
   "outputs": [
    {
     "name": "stdout",
     "output_type": "stream",
     "text": [
      "Training Accuracy: 71.84%\n",
      "Testing Accuracy: 53.67%\n",
      "\n",
      "Classification Report (on test data):\n",
      "              precision    recall  f1-score   support\n",
      "\n",
      "          -1       0.52      0.60      0.55       190\n",
      "           1       0.56      0.48      0.52       205\n",
      "\n",
      "    accuracy                           0.54       395\n",
      "   macro avg       0.54      0.54      0.54       395\n",
      "weighted avg       0.54      0.54      0.54       395\n",
      "\n"
     ]
    }
   ],
   "source": [
    "##  KNeighborsClassifier\n",
    "from sklearn.neighbors import KNeighborsClassifier\n",
    "\n",
    "model = KNeighborsClassifier(n_neighbors=5)\n",
    "model.fit(X_train, y_train)\n",
    "# Predict on training and testing data\n",
    "y_train_pred = model.predict(X_train)\n",
    "y_test_pred = model.predict(X_test)\n",
    "\n",
    "# Accuracy scores\n",
    "train_accuracy = accuracy_score(y_train, y_train_pred) * 100\n",
    "test_accuracy = accuracy_score(y_test, y_test_pred) * 100\n",
    "\n",
    "# Print results\n",
    "print(f\"Training Accuracy: {train_accuracy:.2f}%\")\n",
    "print(f\"Testing Accuracy: {test_accuracy:.2f}%\\n\")\n",
    "\n",
    "print(\"Classification Report (on test data):\")\n",
    "print(classification_report(y_test, y_test_pred))"
   ]
  },
  {
   "cell_type": "code",
   "execution_count": 4,
   "id": "2f025f6e-a13f-49a5-9723-ff70362da457",
   "metadata": {},
   "outputs": [
    {
     "name": "stdout",
     "output_type": "stream",
     "text": [
      "Training Accuracy: 61.84%\n",
      "Testing Accuracy: 55.95%\n",
      "\n",
      "Classification Report (on test data):\n",
      "              precision    recall  f1-score   support\n",
      "\n",
      "          -1       0.53      0.72      0.61       190\n",
      "           1       0.61      0.41      0.49       205\n",
      "\n",
      "    accuracy                           0.56       395\n",
      "   macro avg       0.57      0.57      0.55       395\n",
      "weighted avg       0.57      0.56      0.55       395\n",
      "\n"
     ]
    }
   ],
   "source": [
    "##  SVM\n",
    "from sklearn.svm import SVC\n",
    "\n",
    "model = SVC(kernel='linear')\n",
    "model.fit(X_train, y_train)\n",
    "# Predict on training and testing data\n",
    "y_train_pred = model.predict(X_train)\n",
    "y_test_pred = model.predict(X_test)\n",
    "\n",
    "# Accuracy scores\n",
    "train_accuracy = accuracy_score(y_train, y_train_pred) * 100\n",
    "test_accuracy = accuracy_score(y_test, y_test_pred) * 100\n",
    "\n",
    "# Print results\n",
    "print(f\"Training Accuracy: {train_accuracy:.2f}%\")\n",
    "print(f\"Testing Accuracy: {test_accuracy:.2f}%\\n\")\n",
    "\n",
    "print(\"Classification Report (on test data):\")\n",
    "print(classification_report(y_test, y_test_pred))"
   ]
  },
  {
   "cell_type": "code",
   "execution_count": 5,
   "id": "c9e96e13-4f19-4292-8326-344e284895f3",
   "metadata": {},
   "outputs": [
    {
     "name": "stdout",
     "output_type": "stream",
     "text": [
      "Training Accuracy: 100.00%\n",
      "Testing Accuracy: 55.95%\n",
      "\n",
      "Classification Report (on test data):\n",
      "              precision    recall  f1-score   support\n",
      "\n",
      "          -1       0.54      0.61      0.57       190\n",
      "           1       0.59      0.52      0.55       205\n",
      "\n",
      "    accuracy                           0.56       395\n",
      "   macro avg       0.56      0.56      0.56       395\n",
      "weighted avg       0.56      0.56      0.56       395\n",
      "\n"
     ]
    }
   ],
   "source": [
    "##  Decision Tree\n",
    "from sklearn.tree import DecisionTreeClassifier\n",
    "\n",
    "model = DecisionTreeClassifier()\n",
    "model.fit(X_train, y_train)\n",
    "# Predict on training and testing data\n",
    "y_train_pred = model.predict(X_train)\n",
    "y_test_pred = model.predict(X_test)\n",
    "\n",
    "# Accuracy scores\n",
    "train_accuracy = accuracy_score(y_train, y_train_pred) * 100\n",
    "test_accuracy = accuracy_score(y_test, y_test_pred) * 100\n",
    "\n",
    "# Print results\n",
    "print(f\"Training Accuracy: {train_accuracy:.2f}%\")\n",
    "print(f\"Testing Accuracy: {test_accuracy:.2f}%\\n\")\n",
    "\n",
    "print(\"Classification Report (on test data):\")\n",
    "print(classification_report(y_test, y_test_pred))"
   ]
  },
  {
   "cell_type": "code",
   "execution_count": 6,
   "id": "950847b8-3e5d-4a69-a948-bddd88144cff",
   "metadata": {},
   "outputs": [
    {
     "name": "stdout",
     "output_type": "stream",
     "text": [
      "Training Accuracy: 100.00%\n",
      "Testing Accuracy: 58.99%\n",
      "\n",
      "Classification Report (on test data):\n",
      "              precision    recall  f1-score   support\n",
      "\n",
      "          -1       0.56      0.65      0.60       190\n",
      "           1       0.62      0.54      0.58       205\n",
      "\n",
      "    accuracy                           0.59       395\n",
      "   macro avg       0.59      0.59      0.59       395\n",
      "weighted avg       0.59      0.59      0.59       395\n",
      "\n"
     ]
    }
   ],
   "source": [
    "##  Random Forest\n",
    "from sklearn.ensemble import RandomForestClassifier\n",
    "\n",
    "model = RandomForestClassifier(n_estimators=100)\n",
    "model.fit(X_train, y_train)\n",
    "# Predict on training and testing data\n",
    "y_train_pred = model.predict(X_train)\n",
    "y_test_pred = model.predict(X_test)\n",
    "\n",
    "# Accuracy scores\n",
    "train_accuracy = accuracy_score(y_train, y_train_pred) * 100\n",
    "test_accuracy = accuracy_score(y_test, y_test_pred) * 100\n",
    "\n",
    "# Print results\n",
    "print(f\"Training Accuracy: {train_accuracy:.2f}%\")\n",
    "print(f\"Testing Accuracy: {test_accuracy:.2f}%\\n\")\n",
    "\n",
    "print(\"Classification Report (on test data):\")\n",
    "print(classification_report(y_test, y_test_pred))"
   ]
  },
  {
   "cell_type": "code",
   "execution_count": 7,
   "id": "1a855c74-3731-48d9-84ac-9d8238cc2b2e",
   "metadata": {},
   "outputs": [
    {
     "name": "stdout",
     "output_type": "stream",
     "text": [
      "Training Accuracy: 59.11%\n",
      "Testing Accuracy: 53.92%\n",
      "\n",
      "Classification Report (on test data):\n",
      "              precision    recall  f1-score   support\n",
      "\n",
      "          -1       0.51      0.75      0.61       190\n",
      "           1       0.60      0.35      0.44       205\n",
      "\n",
      "    accuracy                           0.54       395\n",
      "   macro avg       0.56      0.55      0.52       395\n",
      "weighted avg       0.56      0.54      0.52       395\n",
      "\n"
     ]
    }
   ],
   "source": [
    "##  Naïve Bayes\n",
    "from sklearn.naive_bayes import GaussianNB\n",
    "\n",
    "model = GaussianNB()\n",
    "model.fit(X_train, y_train)\n",
    "# Predict on training and testing data\n",
    "y_train_pred = model.predict(X_train)\n",
    "y_test_pred = model.predict(X_test)\n",
    "\n",
    "# Accuracy scores\n",
    "train_accuracy = accuracy_score(y_train, y_train_pred) * 100\n",
    "test_accuracy = accuracy_score(y_test, y_test_pred) * 100\n",
    "\n",
    "# Print results\n",
    "print(f\"Training Accuracy: {train_accuracy:.2f}%\")\n",
    "print(f\"Testing Accuracy: {test_accuracy:.2f}%\\n\")\n",
    "\n",
    "print(\"Classification Report (on test data):\")\n",
    "print(classification_report(y_test, y_test_pred))"
   ]
  },
  {
   "cell_type": "code",
   "execution_count": 8,
   "id": "022d2267-9e8f-48ac-a2c1-b23bdafaf2be",
   "metadata": {},
   "outputs": [],
   "source": [
    "from sklearn.preprocessing import LabelEncoder\n",
    "le = LabelEncoder()\n",
    "y_train = le.fit_transform(y_train)\n",
    "y_test = le.transform(y_test)"
   ]
  },
  {
   "cell_type": "code",
   "execution_count": 9,
   "id": "6ec6aaa0-efc3-43ce-8129-aec357dbc53a",
   "metadata": {},
   "outputs": [
    {
     "name": "stdout",
     "output_type": "stream",
     "text": [
      "Training Accuracy: 100.00%\n",
      "Testing Accuracy: 56.20%\n",
      "\n",
      "Classification Report (on test data):\n",
      "              precision    recall  f1-score   support\n",
      "\n",
      "           0       0.54      0.60      0.57       190\n",
      "           1       0.59      0.53      0.56       205\n",
      "\n",
      "    accuracy                           0.56       395\n",
      "   macro avg       0.56      0.56      0.56       395\n",
      "weighted avg       0.56      0.56      0.56       395\n",
      "\n"
     ]
    }
   ],
   "source": [
    "##  xgboost\n",
    "from xgboost import XGBClassifier\n",
    "\n",
    "model = XGBClassifier()\n",
    "model.fit(X_train, y_train)\n",
    "# Predict on training and testing data\n",
    "y_train_pred = model.predict(X_train)\n",
    "y_test_pred = model.predict(X_test)\n",
    "\n",
    "# Accuracy scores\n",
    "train_accuracy = accuracy_score(y_train, y_train_pred) * 100\n",
    "test_accuracy = accuracy_score(y_test, y_test_pred) * 100\n",
    "\n",
    "# Print results\n",
    "print(f\"Training Accuracy: {train_accuracy:.2f}%\")\n",
    "print(f\"Testing Accuracy: {test_accuracy:.2f}%\\n\")\n",
    "\n",
    "print(\"Classification Report (on test data):\")\n",
    "print(classification_report(y_test, y_test_pred))"
   ]
  },
  {
   "cell_type": "code",
   "execution_count": null,
   "id": "ae127f9f-b34e-439f-8d12-369571462c22",
   "metadata": {},
   "outputs": [],
   "source": []
  }
 ],
 "metadata": {
  "kernelspec": {
   "display_name": "Python 3 (ipykernel)",
   "language": "python",
   "name": "python3"
  },
  "language_info": {
   "codemirror_mode": {
    "name": "ipython",
    "version": 3
   },
   "file_extension": ".py",
   "mimetype": "text/x-python",
   "name": "python",
   "nbconvert_exporter": "python",
   "pygments_lexer": "ipython3",
   "version": "3.11.5"
  },
  "widgets": {
   "application/vnd.jupyter.widget-state+json": {
    "state": {},
    "version_major": 2,
    "version_minor": 0
   }
  }
 },
 "nbformat": 4,
 "nbformat_minor": 5
}
