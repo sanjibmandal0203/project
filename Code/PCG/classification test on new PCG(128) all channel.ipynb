{
 "cells": [
  {
   "cell_type": "code",
   "execution_count": 1,
   "id": "1acc5908-fcc6-4c7e-8b4c-8ffff7e55b1a",
   "metadata": {},
   "outputs": [],
   "source": [
    "import pandas as pd\n",
    "import numpy as np\n",
    "from sklearn.model_selection import train_test_split\n",
    "from sklearn.svm import SVC\n",
    "from sklearn.metrics import accuracy_score"
   ]
  },
  {
   "cell_type": "code",
   "execution_count": 2,
   "id": "0ad38f06-b50c-4e62-a528-a4db5dd863e7",
   "metadata": {},
   "outputs": [],
   "source": [
    "# Load feature and target data\n",
    "features = pd.read_csv(r\"D:\\JN\\data set\\created dataset\\PCG\\new PCG extracted feature\\new_PCG(128)_all_channel.csv\", header=None)  # Adjust header based on your CSV format\n",
    "targets = pd.read_csv(r'D:\\JN\\data set\\data from web\\Reference_aug.csv', header=None)"
   ]
  },
  {
   "cell_type": "code",
   "execution_count": 3,
   "id": "acdde49c-52eb-498c-8674-601fec125263",
   "metadata": {},
   "outputs": [
    {
     "data": {
      "text/plain": [
       "(1975, 128)"
      ]
     },
     "execution_count": 3,
     "metadata": {},
     "output_type": "execute_result"
    }
   ],
   "source": [
    "features.shape"
   ]
  },
  {
   "cell_type": "code",
   "execution_count": 4,
   "id": "b11bd490-06a5-4df3-b543-e514f1ffc9d0",
   "metadata": {},
   "outputs": [
    {
     "name": "stdout",
     "output_type": "stream",
     "text": [
      "<class 'pandas.core.frame.DataFrame'>\n",
      "RangeIndex: 1975 entries, 0 to 1974\n",
      "Columns: 128 entries, 0 to 127\n",
      "dtypes: float64(104), object(24)\n",
      "memory usage: 1.9+ MB\n"
     ]
    }
   ],
   "source": [
    "features.info()"
   ]
  },
  {
   "cell_type": "code",
   "execution_count": 5,
   "id": "0d8e77a1-dc92-42ce-8828-1de09600e6f1",
   "metadata": {},
   "outputs": [
    {
     "data": {
      "text/plain": [
       "(1975, 2)"
      ]
     },
     "execution_count": 5,
     "metadata": {},
     "output_type": "execute_result"
    }
   ],
   "source": [
    "targets.shape"
   ]
  },
  {
   "cell_type": "code",
   "execution_count": 6,
   "id": "721a01f7-ec1b-4a37-9520-b93d7d77f0c1",
   "metadata": {},
   "outputs": [
    {
     "name": "stdout",
     "output_type": "stream",
     "text": [
      "<class 'pandas.core.frame.DataFrame'>\n",
      "RangeIndex: 1975 entries, 0 to 1974\n",
      "Columns: 128 entries, 0 to 127\n",
      "dtypes: float64(128)\n",
      "memory usage: 1.9 MB\n",
      "None\n"
     ]
    }
   ],
   "source": [
    "# Convert object columns to float\n",
    "features = features.apply(pd.to_numeric, errors='coerce')\n",
    "\n",
    "# Verify the changes\n",
    "print(features.info())"
   ]
  },
  {
   "cell_type": "code",
   "execution_count": 7,
   "id": "7850b20b-bbce-4f17-9716-675024eac1db",
   "metadata": {},
   "outputs": [
    {
     "name": "stdout",
     "output_type": "stream",
     "text": [
      "<class 'pandas.core.frame.DataFrame'>\n",
      "RangeIndex: 1975 entries, 0 to 1974\n",
      "Columns: 128 entries, 0 to 127\n",
      "dtypes: float64(128)\n",
      "memory usage: 1.9 MB\n",
      "None\n"
     ]
    }
   ],
   "source": [
    "# Replace NaN values with 0\n",
    "features.fillna(0, inplace=True)\n",
    "\n",
    "# Verify the changes\n",
    "print(features.info())"
   ]
  },
  {
   "cell_type": "code",
   "execution_count": 9,
   "id": "e6fe0201-0a7c-4dd3-ac84-dc2ea4b6ed62",
   "metadata": {},
   "outputs": [],
   "source": [
    "# Save the combined dataframe to a new CSV file\n",
    "features.to_csv(\"new_PCG(128)(float)_all_channel.csv\", index=False)"
   ]
  },
  {
   "cell_type": "code",
   "execution_count": 10,
   "id": "5281e99f-fa52-4e4f-9389-8357ca9dbca0",
   "metadata": {},
   "outputs": [],
   "source": [
    "# Extract target column\n",
    "y = targets.iloc[:, -1]  # Selecting the last column\n",
    "X = features  # All feature columns"
   ]
  },
  {
   "cell_type": "code",
   "execution_count": 11,
   "id": "ceb46f05-2721-4d91-a92c-867a9d52d882",
   "metadata": {},
   "outputs": [],
   "source": [
    "# Split data into training and testing sets\n",
    "X_train, X_test, y_train, y_test = train_test_split(X, y, test_size=0.2, random_state=42)"
   ]
  },
  {
   "cell_type": "raw",
   "id": "245a2294-b63c-48d2-8412-dd5e98e82e18",
   "metadata": {},
   "source": [
    "X_train = X_train.astype(float)\n",
    "X_test = X_test.astype(float)"
   ]
  },
  {
   "cell_type": "code",
   "execution_count": 12,
   "id": "011a9502-9407-4acd-a0a4-cc677a832d27",
   "metadata": {},
   "outputs": [
    {
     "name": "stdout",
     "output_type": "stream",
     "text": [
      "<class 'pandas.core.frame.DataFrame'>\n",
      "Index: 1580 entries, 198 to 1126\n",
      "Columns: 128 entries, 0 to 127\n",
      "dtypes: float64(128)\n",
      "memory usage: 1.6 MB\n"
     ]
    }
   ],
   "source": [
    "X_train.info()"
   ]
  },
  {
   "cell_type": "code",
   "execution_count": 13,
   "id": "811b08de-4e51-4f62-8754-46ab52b8f2a7",
   "metadata": {},
   "outputs": [],
   "source": [
    "from sklearn.metrics import accuracy_score, classification_report, confusion_matrix"
   ]
  },
  {
   "cell_type": "code",
   "execution_count": 14,
   "id": "0c8fa6ad-3f74-4c4e-a4ea-78b09ce71c5b",
   "metadata": {},
   "outputs": [
    {
     "name": "stdout",
     "output_type": "stream",
     "text": [
      "Training Accuracy: 60.51%\n",
      "Testing Accuracy: 55.19%\n",
      "\n",
      "Classification Report (on test data):\n",
      "              precision    recall  f1-score   support\n",
      "\n",
      "          -1       0.53      0.66      0.59       190\n",
      "           1       0.59      0.45      0.51       205\n",
      "\n",
      "    accuracy                           0.55       395\n",
      "   macro avg       0.56      0.56      0.55       395\n",
      "weighted avg       0.56      0.55      0.55       395\n",
      "\n"
     ]
    }
   ],
   "source": [
    "##  LogisticRegression\n",
    "from sklearn.linear_model import LogisticRegression\n",
    "\n",
    "model = LogisticRegression()\n",
    "model.fit(X_train, y_train)\n",
    "# Predict on training and testing data\n",
    "y_train_pred = model.predict(X_train)\n",
    "y_test_pred = model.predict(X_test)\n",
    "\n",
    "# Accuracy scores\n",
    "train_accuracy = accuracy_score(y_train, y_train_pred) * 100\n",
    "test_accuracy = accuracy_score(y_test, y_test_pred) * 100\n",
    "\n",
    "# Print results\n",
    "print(f\"Training Accuracy: {train_accuracy:.2f}%\")\n",
    "print(f\"Testing Accuracy: {test_accuracy:.2f}%\\n\")\n",
    "\n",
    "print(\"Classification Report (on test data):\")\n",
    "print(classification_report(y_test, y_test_pred))"
   ]
  },
  {
   "cell_type": "code",
   "execution_count": 15,
   "id": "4f240612-4ef2-4d31-a4ed-85f936b7061f",
   "metadata": {},
   "outputs": [
    {
     "name": "stdout",
     "output_type": "stream",
     "text": [
      "Training Accuracy: 73.23%\n",
      "Testing Accuracy: 52.91%\n",
      "\n",
      "Classification Report (on test data):\n",
      "              precision    recall  f1-score   support\n",
      "\n",
      "          -1       0.51      0.60      0.55       190\n",
      "           1       0.56      0.46      0.51       205\n",
      "\n",
      "    accuracy                           0.53       395\n",
      "   macro avg       0.53      0.53      0.53       395\n",
      "weighted avg       0.53      0.53      0.53       395\n",
      "\n"
     ]
    }
   ],
   "source": [
    "##  KNeighborsClassifier\n",
    "from sklearn.neighbors import KNeighborsClassifier\n",
    "\n",
    "model = KNeighborsClassifier(n_neighbors=5)\n",
    "model.fit(X_train, y_train)\n",
    "# Predict on training and testing data\n",
    "y_train_pred = model.predict(X_train)\n",
    "y_test_pred = model.predict(X_test)\n",
    "\n",
    "# Accuracy scores\n",
    "train_accuracy = accuracy_score(y_train, y_train_pred) * 100\n",
    "test_accuracy = accuracy_score(y_test, y_test_pred) * 100\n",
    "\n",
    "# Print results\n",
    "print(f\"Training Accuracy: {train_accuracy:.2f}%\")\n",
    "print(f\"Testing Accuracy: {test_accuracy:.2f}%\\n\")\n",
    "\n",
    "print(\"Classification Report (on test data):\")\n",
    "print(classification_report(y_test, y_test_pred))"
   ]
  },
  {
   "cell_type": "code",
   "execution_count": 16,
   "id": "855197db-1f50-4b4d-a749-62f4b762c7e4",
   "metadata": {},
   "outputs": [
    {
     "name": "stdout",
     "output_type": "stream",
     "text": [
      "Training Accuracy: 60.76%\n",
      "Testing Accuracy: 55.44%\n",
      "\n",
      "Classification Report (on test data):\n",
      "              precision    recall  f1-score   support\n",
      "\n",
      "          -1       0.53      0.70      0.60       190\n",
      "           1       0.60      0.42      0.49       205\n",
      "\n",
      "    accuracy                           0.55       395\n",
      "   macro avg       0.56      0.56      0.55       395\n",
      "weighted avg       0.57      0.55      0.55       395\n",
      "\n"
     ]
    }
   ],
   "source": [
    "##  SVM\n",
    "from sklearn.svm import SVC\n",
    "\n",
    "model = SVC(kernel='linear')\n",
    "model.fit(X_train, y_train)\n",
    "# Predict on training and testing data\n",
    "y_train_pred = model.predict(X_train)\n",
    "y_test_pred = model.predict(X_test)\n",
    "\n",
    "# Accuracy scores\n",
    "train_accuracy = accuracy_score(y_train, y_train_pred) * 100\n",
    "test_accuracy = accuracy_score(y_test, y_test_pred) * 100\n",
    "\n",
    "# Print results\n",
    "print(f\"Training Accuracy: {train_accuracy:.2f}%\")\n",
    "print(f\"Testing Accuracy: {test_accuracy:.2f}%\\n\")\n",
    "\n",
    "print(\"Classification Report (on test data):\")\n",
    "print(classification_report(y_test, y_test_pred))"
   ]
  },
  {
   "cell_type": "code",
   "execution_count": 17,
   "id": "8484dd26-47ea-4c8f-b71f-b62e2dba2f14",
   "metadata": {},
   "outputs": [
    {
     "name": "stdout",
     "output_type": "stream",
     "text": [
      "Training Accuracy: 100.00%\n",
      "Testing Accuracy: 48.10%\n",
      "\n",
      "Classification Report (on test data):\n",
      "              precision    recall  f1-score   support\n",
      "\n",
      "          -1       0.47      0.54      0.50       190\n",
      "           1       0.50      0.43      0.46       205\n",
      "\n",
      "    accuracy                           0.48       395\n",
      "   macro avg       0.48      0.48      0.48       395\n",
      "weighted avg       0.48      0.48      0.48       395\n",
      "\n"
     ]
    }
   ],
   "source": [
    "##  Decision Tree\n",
    "from sklearn.tree import DecisionTreeClassifier\n",
    "\n",
    "model = DecisionTreeClassifier()\n",
    "model.fit(X_train, y_train)\n",
    "# Predict on training and testing data\n",
    "y_train_pred = model.predict(X_train)\n",
    "y_test_pred = model.predict(X_test)\n",
    "\n",
    "# Accuracy scores\n",
    "train_accuracy = accuracy_score(y_train, y_train_pred) * 100\n",
    "test_accuracy = accuracy_score(y_test, y_test_pred) * 100\n",
    "\n",
    "# Print results\n",
    "print(f\"Training Accuracy: {train_accuracy:.2f}%\")\n",
    "print(f\"Testing Accuracy: {test_accuracy:.2f}%\\n\")\n",
    "\n",
    "print(\"Classification Report (on test data):\")\n",
    "print(classification_report(y_test, y_test_pred))"
   ]
  },
  {
   "cell_type": "code",
   "execution_count": 18,
   "id": "fd87bbd6-6759-4129-9475-6f532c4790b2",
   "metadata": {},
   "outputs": [
    {
     "name": "stdout",
     "output_type": "stream",
     "text": [
      "Training Accuracy: 100.00%\n",
      "Testing Accuracy: 57.22%\n",
      "\n",
      "Classification Report (on test data):\n",
      "              precision    recall  f1-score   support\n",
      "\n",
      "          -1       0.55      0.64      0.59       190\n",
      "           1       0.60      0.51      0.55       205\n",
      "\n",
      "    accuracy                           0.57       395\n",
      "   macro avg       0.58      0.57      0.57       395\n",
      "weighted avg       0.58      0.57      0.57       395\n",
      "\n"
     ]
    }
   ],
   "source": [
    "##  Random Forest\n",
    "from sklearn.ensemble import RandomForestClassifier\n",
    "\n",
    "model = RandomForestClassifier(n_estimators=100)\n",
    "model.fit(X_train, y_train)\n",
    "# Predict on training and testing data\n",
    "y_train_pred = model.predict(X_train)\n",
    "y_test_pred = model.predict(X_test)\n",
    "\n",
    "# Accuracy scores\n",
    "train_accuracy = accuracy_score(y_train, y_train_pred) * 100\n",
    "test_accuracy = accuracy_score(y_test, y_test_pred) * 100\n",
    "\n",
    "# Print results\n",
    "print(f\"Training Accuracy: {train_accuracy:.2f}%\")\n",
    "print(f\"Testing Accuracy: {test_accuracy:.2f}%\\n\")\n",
    "\n",
    "print(\"Classification Report (on test data):\")\n",
    "print(classification_report(y_test, y_test_pred))"
   ]
  },
  {
   "cell_type": "code",
   "execution_count": 19,
   "id": "b6de673b-3f44-4b88-80f4-8a3a04ebc49f",
   "metadata": {},
   "outputs": [
    {
     "name": "stdout",
     "output_type": "stream",
     "text": [
      "Training Accuracy: 58.54%\n",
      "Testing Accuracy: 54.43%\n",
      "\n",
      "Classification Report (on test data):\n",
      "              precision    recall  f1-score   support\n",
      "\n",
      "          -1       0.52      0.74      0.61       190\n",
      "           1       0.60      0.37      0.45       205\n",
      "\n",
      "    accuracy                           0.54       395\n",
      "   macro avg       0.56      0.55      0.53       395\n",
      "weighted avg       0.56      0.54      0.53       395\n",
      "\n"
     ]
    }
   ],
   "source": [
    "##  Naïve Bayes\n",
    "from sklearn.naive_bayes import GaussianNB\n",
    "\n",
    "model = GaussianNB()\n",
    "model.fit(X_train, y_train)\n",
    "# Predict on training and testing data\n",
    "y_train_pred = model.predict(X_train)\n",
    "y_test_pred = model.predict(X_test)\n",
    "\n",
    "# Accuracy scores\n",
    "train_accuracy = accuracy_score(y_train, y_train_pred) * 100\n",
    "test_accuracy = accuracy_score(y_test, y_test_pred) * 100\n",
    "\n",
    "# Print results\n",
    "print(f\"Training Accuracy: {train_accuracy:.2f}%\")\n",
    "print(f\"Testing Accuracy: {test_accuracy:.2f}%\\n\")\n",
    "\n",
    "print(\"Classification Report (on test data):\")\n",
    "print(classification_report(y_test, y_test_pred))"
   ]
  },
  {
   "cell_type": "code",
   "execution_count": 20,
   "id": "4bdc1bee-0f6f-4bf6-b9d5-0e35f73eab4a",
   "metadata": {},
   "outputs": [],
   "source": [
    "from sklearn.preprocessing import LabelEncoder\n",
    "le = LabelEncoder()\n",
    "y_train = le.fit_transform(y_train)\n",
    "y_test = le.transform(y_test)"
   ]
  },
  {
   "cell_type": "code",
   "execution_count": 21,
   "id": "046a5f43-0a2d-4e9d-b024-0414b5dbfb0e",
   "metadata": {},
   "outputs": [
    {
     "name": "stdout",
     "output_type": "stream",
     "text": [
      "Training Accuracy: 100.00%\n",
      "Testing Accuracy: 57.72%\n",
      "\n",
      "Classification Report (on test data):\n",
      "              precision    recall  f1-score   support\n",
      "\n",
      "           0       0.55      0.63      0.59       190\n",
      "           1       0.61      0.53      0.56       205\n",
      "\n",
      "    accuracy                           0.58       395\n",
      "   macro avg       0.58      0.58      0.58       395\n",
      "weighted avg       0.58      0.58      0.58       395\n",
      "\n"
     ]
    }
   ],
   "source": [
    "##  xgboost\n",
    "from xgboost import XGBClassifier\n",
    "\n",
    "model = XGBClassifier()\n",
    "model.fit(X_train, y_train)\n",
    "# Predict on training and testing data\n",
    "y_train_pred = model.predict(X_train)\n",
    "y_test_pred = model.predict(X_test)\n",
    "\n",
    "# Accuracy scores\n",
    "train_accuracy = accuracy_score(y_train, y_train_pred) * 100\n",
    "test_accuracy = accuracy_score(y_test, y_test_pred) * 100\n",
    "\n",
    "# Print results\n",
    "print(f\"Training Accuracy: {train_accuracy:.2f}%\")\n",
    "print(f\"Testing Accuracy: {test_accuracy:.2f}%\\n\")\n",
    "\n",
    "print(\"Classification Report (on test data):\")\n",
    "print(classification_report(y_test, y_test_pred))"
   ]
  },
  {
   "cell_type": "code",
   "execution_count": null,
   "id": "b6d7b93d-5d72-4536-961f-e3a6861d7107",
   "metadata": {},
   "outputs": [],
   "source": []
  }
 ],
 "metadata": {
  "kernelspec": {
   "display_name": "Python 3 (ipykernel)",
   "language": "python",
   "name": "python3"
  },
  "language_info": {
   "codemirror_mode": {
    "name": "ipython",
    "version": 3
   },
   "file_extension": ".py",
   "mimetype": "text/x-python",
   "name": "python",
   "nbconvert_exporter": "python",
   "pygments_lexer": "ipython3",
   "version": "3.11.5"
  },
  "widgets": {
   "application/vnd.jupyter.widget-state+json": {
    "state": {},
    "version_major": 2,
    "version_minor": 0
   }
  }
 },
 "nbformat": 4,
 "nbformat_minor": 5
}
