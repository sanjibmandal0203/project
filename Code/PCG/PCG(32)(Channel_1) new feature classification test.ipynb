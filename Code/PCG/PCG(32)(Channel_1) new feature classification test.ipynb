{
 "cells": [
  {
   "cell_type": "code",
   "execution_count": 1,
   "id": "4124237c-21df-4c59-9c0a-6495cb66f6ea",
   "metadata": {},
   "outputs": [],
   "source": [
    "import pandas as pd\n",
    "import numpy as np\n",
    "from sklearn.model_selection import train_test_split\n",
    "from sklearn.svm import SVC\n",
    "from sklearn.metrics import accuracy_score"
   ]
  },
  {
   "cell_type": "code",
   "execution_count": 2,
   "id": "9a1fb6f0-1d6e-4e02-ace8-5525349fb248",
   "metadata": {},
   "outputs": [],
   "source": [
    "# Load feature and target data\n",
    "features = pd.read_csv(r\"D:\\JN\\data set\\created dataset\\PCG\\new PCG extracted feature\\new_PCG(32)_features_channel_1.csv\", header=None)  # Adjust header based on your CSV format\n",
    "targets = pd.read_csv(r'D:\\JN\\data set\\data from web\\Reference_aug.csv', header=None)"
   ]
  },
  {
   "cell_type": "code",
   "execution_count": 3,
   "id": "a64f67de-ab4c-4585-8bd7-56378edf3a30",
   "metadata": {},
   "outputs": [
    {
     "data": {
      "text/plain": [
       "(1975, 32)"
      ]
     },
     "execution_count": 3,
     "metadata": {},
     "output_type": "execute_result"
    }
   ],
   "source": [
    "features.shape"
   ]
  },
  {
   "cell_type": "code",
   "execution_count": 4,
   "id": "90a5ebb2-a50d-4ee2-a63f-ddf4c229c96b",
   "metadata": {},
   "outputs": [
    {
     "data": {
      "text/plain": [
       "(1975, 2)"
      ]
     },
     "execution_count": 4,
     "metadata": {},
     "output_type": "execute_result"
    }
   ],
   "source": [
    "targets.shape"
   ]
  },
  {
   "cell_type": "code",
   "execution_count": 5,
   "id": "5ce57a94-68d1-4e34-bdf3-f5bedb983ec4",
   "metadata": {},
   "outputs": [],
   "source": [
    "# Extract target column\n",
    "y = targets.iloc[:, -1]  # Selecting the last column\n",
    "X = features  # All feature columns"
   ]
  },
  {
   "cell_type": "code",
   "execution_count": 6,
   "id": "8c988fa4-8080-4fa2-a5d3-94b41dd356ff",
   "metadata": {},
   "outputs": [],
   "source": [
    "# Split data into training and testing sets\n",
    "X_train, X_test, y_train, y_test = train_test_split(X, y, test_size=0.2, random_state=42)"
   ]
  },
  {
   "cell_type": "code",
   "execution_count": 7,
   "id": "3bab8752-fb02-4761-a69a-eabf9607d54e",
   "metadata": {},
   "outputs": [],
   "source": [
    "from sklearn.metrics import accuracy_score, classification_report, confusion_matrix"
   ]
  },
  {
   "cell_type": "code",
   "execution_count": 8,
   "id": "6c457141-5165-4180-a008-774934ba8b12",
   "metadata": {},
   "outputs": [
    {
     "name": "stdout",
     "output_type": "stream",
     "text": [
      "Training Accuracy: 59.49%\n",
      "Testing Accuracy: 55.19%\n",
      "\n",
      "Classification Report (on test data):\n",
      "              precision    recall  f1-score   support\n",
      "\n",
      "          -1       0.53      0.65      0.58       190\n",
      "           1       0.59      0.46      0.52       205\n",
      "\n",
      "    accuracy                           0.55       395\n",
      "   macro avg       0.56      0.56      0.55       395\n",
      "weighted avg       0.56      0.55      0.55       395\n",
      "\n"
     ]
    }
   ],
   "source": [
    "##  LogisticRegression\n",
    "from sklearn.linear_model import LogisticRegression\n",
    "\n",
    "model = LogisticRegression()\n",
    "model.fit(X_train, y_train)\n",
    "# Predict on training and testing data\n",
    "y_train_pred = model.predict(X_train)\n",
    "y_test_pred = model.predict(X_test)\n",
    "\n",
    "# Accuracy scores\n",
    "train_accuracy = accuracy_score(y_train, y_train_pred) * 100\n",
    "test_accuracy = accuracy_score(y_test, y_test_pred) * 100\n",
    "\n",
    "# Print results\n",
    "print(f\"Training Accuracy: {train_accuracy:.2f}%\")\n",
    "print(f\"Testing Accuracy: {test_accuracy:.2f}%\\n\")\n",
    "\n",
    "print(\"Classification Report (on test data):\")\n",
    "print(classification_report(y_test, y_test_pred))"
   ]
  },
  {
   "cell_type": "code",
   "execution_count": 9,
   "id": "8351ca65-a2cc-45ff-b673-027662b666b5",
   "metadata": {},
   "outputs": [
    {
     "name": "stdout",
     "output_type": "stream",
     "text": [
      "Training Accuracy: 73.23%\n",
      "Testing Accuracy: 52.91%\n",
      "\n",
      "Classification Report (on test data):\n",
      "              precision    recall  f1-score   support\n",
      "\n",
      "          -1       0.51      0.60      0.55       190\n",
      "           1       0.56      0.46      0.51       205\n",
      "\n",
      "    accuracy                           0.53       395\n",
      "   macro avg       0.53      0.53      0.53       395\n",
      "weighted avg       0.53      0.53      0.53       395\n",
      "\n"
     ]
    }
   ],
   "source": [
    "##  KNeighborsClassifier\n",
    "from sklearn.neighbors import KNeighborsClassifier\n",
    "\n",
    "model = KNeighborsClassifier(n_neighbors=5)\n",
    "model.fit(X_train, y_train)\n",
    "# Predict on training and testing data\n",
    "y_train_pred = model.predict(X_train)\n",
    "y_test_pred = model.predict(X_test)\n",
    "\n",
    "# Accuracy scores\n",
    "train_accuracy = accuracy_score(y_train, y_train_pred) * 100\n",
    "test_accuracy = accuracy_score(y_test, y_test_pred) * 100\n",
    "\n",
    "# Print results\n",
    "print(f\"Training Accuracy: {train_accuracy:.2f}%\")\n",
    "print(f\"Testing Accuracy: {test_accuracy:.2f}%\\n\")\n",
    "\n",
    "print(\"Classification Report (on test data):\")\n",
    "print(classification_report(y_test, y_test_pred))"
   ]
  },
  {
   "cell_type": "code",
   "execution_count": 10,
   "id": "a986c151-a988-4b93-b542-e6be9081b069",
   "metadata": {},
   "outputs": [
    {
     "name": "stdout",
     "output_type": "stream",
     "text": [
      "Training Accuracy: 59.87%\n",
      "Testing Accuracy: 53.16%\n",
      "\n",
      "Classification Report (on test data):\n",
      "              precision    recall  f1-score   support\n",
      "\n",
      "          -1       0.51      0.72      0.60       190\n",
      "           1       0.58      0.36      0.44       205\n",
      "\n",
      "    accuracy                           0.53       395\n",
      "   macro avg       0.54      0.54      0.52       395\n",
      "weighted avg       0.55      0.53      0.52       395\n",
      "\n"
     ]
    }
   ],
   "source": [
    "##  SVM\n",
    "from sklearn.svm import SVC\n",
    "\n",
    "model = SVC(kernel='linear')\n",
    "model.fit(X_train, y_train)\n",
    "# Predict on training and testing data\n",
    "y_train_pred = model.predict(X_train)\n",
    "y_test_pred = model.predict(X_test)\n",
    "\n",
    "# Accuracy scores\n",
    "train_accuracy = accuracy_score(y_train, y_train_pred) * 100\n",
    "test_accuracy = accuracy_score(y_test, y_test_pred) * 100\n",
    "\n",
    "# Print results\n",
    "print(f\"Training Accuracy: {train_accuracy:.2f}%\")\n",
    "print(f\"Testing Accuracy: {test_accuracy:.2f}%\\n\")\n",
    "\n",
    "print(\"Classification Report (on test data):\")\n",
    "print(classification_report(y_test, y_test_pred))"
   ]
  },
  {
   "cell_type": "code",
   "execution_count": 11,
   "id": "b7bbf0cd-41ea-499b-8651-0d5a1a9c2003",
   "metadata": {},
   "outputs": [
    {
     "name": "stdout",
     "output_type": "stream",
     "text": [
      "Training Accuracy: 58.54%\n",
      "Testing Accuracy: 54.43%\n",
      "\n",
      "Classification Report (on test data):\n",
      "              precision    recall  f1-score   support\n",
      "\n",
      "          -1       0.52      0.74      0.61       190\n",
      "           1       0.60      0.37      0.45       205\n",
      "\n",
      "    accuracy                           0.54       395\n",
      "   macro avg       0.56      0.55      0.53       395\n",
      "weighted avg       0.56      0.54      0.53       395\n",
      "\n"
     ]
    }
   ],
   "source": [
    "##  Naïve Bayes\n",
    "from sklearn.naive_bayes import GaussianNB\n",
    "\n",
    "model = GaussianNB()\n",
    "model.fit(X_train, y_train)\n",
    "# Predict on training and testing data\n",
    "y_train_pred = model.predict(X_train)\n",
    "y_test_pred = model.predict(X_test)\n",
    "\n",
    "# Accuracy scores\n",
    "train_accuracy = accuracy_score(y_train, y_train_pred) * 100\n",
    "test_accuracy = accuracy_score(y_test, y_test_pred) * 100\n",
    "\n",
    "# Print results\n",
    "print(f\"Training Accuracy: {train_accuracy:.2f}%\")\n",
    "print(f\"Testing Accuracy: {test_accuracy:.2f}%\\n\")\n",
    "\n",
    "print(\"Classification Report (on test data):\")\n",
    "print(classification_report(y_test, y_test_pred))"
   ]
  },
  {
   "cell_type": "code",
   "execution_count": 12,
   "id": "31c96e09-2ec6-4bae-b3da-293d59716213",
   "metadata": {},
   "outputs": [
    {
     "name": "stdout",
     "output_type": "stream",
     "text": [
      "Training Accuracy: 100.00%\n",
      "Testing Accuracy: 47.09%\n",
      "\n",
      "Classification Report (on test data):\n",
      "              precision    recall  f1-score   support\n",
      "\n",
      "          -1       0.45      0.50      0.48       190\n",
      "           1       0.49      0.44      0.47       205\n",
      "\n",
      "    accuracy                           0.47       395\n",
      "   macro avg       0.47      0.47      0.47       395\n",
      "weighted avg       0.47      0.47      0.47       395\n",
      "\n"
     ]
    }
   ],
   "source": [
    "##  Decision Tree\n",
    "from sklearn.tree import DecisionTreeClassifier\n",
    "\n",
    "model = DecisionTreeClassifier()\n",
    "model.fit(X_train, y_train)\n",
    "# Predict on training and testing data\n",
    "y_train_pred = model.predict(X_train)\n",
    "y_test_pred = model.predict(X_test)\n",
    "\n",
    "# Accuracy scores\n",
    "train_accuracy = accuracy_score(y_train, y_train_pred) * 100\n",
    "test_accuracy = accuracy_score(y_test, y_test_pred) * 100\n",
    "\n",
    "# Print results\n",
    "print(f\"Training Accuracy: {train_accuracy:.2f}%\")\n",
    "print(f\"Testing Accuracy: {test_accuracy:.2f}%\\n\")\n",
    "\n",
    "print(\"Classification Report (on test data):\")\n",
    "print(classification_report(y_test, y_test_pred))"
   ]
  },
  {
   "cell_type": "code",
   "execution_count": 13,
   "id": "dee1f61c-6eb8-44a4-8d59-218872c8a6df",
   "metadata": {},
   "outputs": [
    {
     "name": "stdout",
     "output_type": "stream",
     "text": [
      "Training Accuracy: 100.00%\n",
      "Testing Accuracy: 56.96%\n",
      "\n",
      "Classification Report (on test data):\n",
      "              precision    recall  f1-score   support\n",
      "\n",
      "          -1       0.54      0.65      0.59       190\n",
      "           1       0.60      0.50      0.55       205\n",
      "\n",
      "    accuracy                           0.57       395\n",
      "   macro avg       0.57      0.57      0.57       395\n",
      "weighted avg       0.58      0.57      0.57       395\n",
      "\n"
     ]
    }
   ],
   "source": [
    "##  Random Forest\n",
    "from sklearn.ensemble import RandomForestClassifier\n",
    "\n",
    "model = RandomForestClassifier(n_estimators=100)\n",
    "model.fit(X_train, y_train)\n",
    "# Predict on training and testing data\n",
    "y_train_pred = model.predict(X_train)\n",
    "y_test_pred = model.predict(X_test)\n",
    "\n",
    "# Accuracy scores\n",
    "train_accuracy = accuracy_score(y_train, y_train_pred) * 100\n",
    "test_accuracy = accuracy_score(y_test, y_test_pred) * 100\n",
    "\n",
    "# Print results\n",
    "print(f\"Training Accuracy: {train_accuracy:.2f}%\")\n",
    "print(f\"Testing Accuracy: {test_accuracy:.2f}%\\n\")\n",
    "\n",
    "print(\"Classification Report (on test data):\")\n",
    "print(classification_report(y_test, y_test_pred))"
   ]
  },
  {
   "cell_type": "code",
   "execution_count": 15,
   "id": "ba6cfffa-1c30-4bf2-9af0-4504e64faeb4",
   "metadata": {},
   "outputs": [],
   "source": [
    "from sklearn.preprocessing import LabelEncoder\n",
    "le = LabelEncoder()\n",
    "y_train = le.fit_transform(y_train)\n",
    "y_test = le.transform(y_test)"
   ]
  },
  {
   "cell_type": "code",
   "execution_count": 16,
   "id": "c187e551-c0e7-44b7-b3f5-1373e55ae59e",
   "metadata": {},
   "outputs": [
    {
     "name": "stdout",
     "output_type": "stream",
     "text": [
      "Training Accuracy: 100.00%\n",
      "Testing Accuracy: 57.72%\n",
      "\n",
      "Classification Report (on test data):\n",
      "              precision    recall  f1-score   support\n",
      "\n",
      "           0       0.55      0.63      0.59       190\n",
      "           1       0.61      0.53      0.56       205\n",
      "\n",
      "    accuracy                           0.58       395\n",
      "   macro avg       0.58      0.58      0.58       395\n",
      "weighted avg       0.58      0.58      0.58       395\n",
      "\n"
     ]
    }
   ],
   "source": [
    "##  xgboost\n",
    "from xgboost import XGBClassifier\n",
    "\n",
    "model = XGBClassifier()\n",
    "model.fit(X_train, y_train)\n",
    "# Predict on training and testing data\n",
    "y_train_pred = model.predict(X_train)\n",
    "y_test_pred = model.predict(X_test)\n",
    "\n",
    "# Accuracy scores\n",
    "train_accuracy = accuracy_score(y_train, y_train_pred) * 100\n",
    "test_accuracy = accuracy_score(y_test, y_test_pred) * 100\n",
    "\n",
    "# Print results\n",
    "print(f\"Training Accuracy: {train_accuracy:.2f}%\")\n",
    "print(f\"Testing Accuracy: {test_accuracy:.2f}%\\n\")\n",
    "\n",
    "print(\"Classification Report (on test data):\")\n",
    "print(classification_report(y_test, y_test_pred))"
   ]
  },
  {
   "cell_type": "code",
   "execution_count": null,
   "id": "5fbffaf7-c113-4637-b0e0-f15ecd29f880",
   "metadata": {},
   "outputs": [],
   "source": []
  }
 ],
 "metadata": {
  "kernelspec": {
   "display_name": "Python 3 (ipykernel)",
   "language": "python",
   "name": "python3"
  },
  "language_info": {
   "codemirror_mode": {
    "name": "ipython",
    "version": 3
   },
   "file_extension": ".py",
   "mimetype": "text/x-python",
   "name": "python",
   "nbconvert_exporter": "python",
   "pygments_lexer": "ipython3",
   "version": "3.11.5"
  },
  "widgets": {
   "application/vnd.jupyter.widget-state+json": {
    "state": {},
    "version_major": 2,
    "version_minor": 0
   }
  }
 },
 "nbformat": 4,
 "nbformat_minor": 5
}
