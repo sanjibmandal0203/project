{
 "cells": [
  {
   "cell_type": "code",
   "execution_count": 4,
   "id": "8b06e7be-dfb5-45c8-b6f3-25ba1b670ee6",
   "metadata": {},
   "outputs": [],
   "source": [
    "import numpy as np\n",
    "import pandas as pd\n",
    "from scipy.signal import resample"
   ]
  },
  {
   "cell_type": "markdown",
   "id": "ade175de-6138-405f-9ebb-e855ac1f7d56",
   "metadata": {
    "jp-MarkdownHeadingCollapsed": true
   },
   "source": [
    "# Channel 1 PCG"
   ]
  },
  {
   "cell_type": "code",
   "execution_count": 5,
   "id": "787bd223-3d21-4ca7-be73-d2b7968ed9d8",
   "metadata": {},
   "outputs": [],
   "source": [
    "# Load the original CSV\n",
    "input_file = r'D:\\JN\\data set\\created dataset\\PCG\\channel_1.csv'\n",
    "output_file = r'D:\\JN\\data set\\created dataset\\PCG\\Resample_pcg_data_2048_channel_1.csv'"
   ]
  },
  {
   "cell_type": "code",
   "execution_count": 6,
   "id": "0a0dbb63-9ca2-40ff-8c7d-cc18ff732619",
   "metadata": {},
   "outputs": [],
   "source": [
    "# Read the CSV file into a DataFrame\n",
    "data = pd.read_csv(input_file, header=None)"
   ]
  },
  {
   "cell_type": "code",
   "execution_count": 7,
   "id": "74d1147a-67a7-4831-a30d-e85f5b6503b0",
   "metadata": {},
   "outputs": [
    {
     "data": {
      "text/plain": [
       "(1976, 8000)"
      ]
     },
     "execution_count": 7,
     "metadata": {},
     "output_type": "execute_result"
    }
   ],
   "source": [
    "data.shape"
   ]
  },
  {
   "cell_type": "code",
   "execution_count": 8,
   "id": "6309d50a-0342-4f5c-87a1-87f226e2977f",
   "metadata": {},
   "outputs": [],
   "source": [
    "data = data.iloc[1:].reset_index(drop=True)"
   ]
  },
  {
   "cell_type": "code",
   "execution_count": 9,
   "id": "1b479314-c18b-40e0-90d3-89898cfff26b",
   "metadata": {},
   "outputs": [
    {
     "data": {
      "text/plain": [
       "(1975, 8000)"
      ]
     },
     "execution_count": 9,
     "metadata": {},
     "output_type": "execute_result"
    }
   ],
   "source": [
    "data.shape"
   ]
  },
  {
   "cell_type": "code",
   "execution_count": 10,
   "id": "b7db0f77-8a0d-4fdb-9bd0-e818dd91602d",
   "metadata": {},
   "outputs": [
    {
     "name": "stdout",
     "output_type": "stream",
     "text": [
      "Resampling complete. Output saved to D:\\JN\\data set\\created dataset\\PCG\\Resample_ecg_data_2048_channel_1.csv\n"
     ]
    }
   ],
   "source": [
    "# Resample each row from 8000 to 2048 samples\n",
    "resampled_data = data.apply(lambda row: resample(row.values, 2048), axis=1)\n",
    "\n",
    "# Convert the result to a DataFrame\n",
    "resampled_df = pd.DataFrame(np.vstack(resampled_data))\n",
    "\n",
    "# Save the new DataFrame to CSV\n",
    "resampled_df.to_csv(output_file, index=False, header=False)\n",
    "\n",
    "print(\"Resampling complete. Output saved to\", output_file)"
   ]
  },
  {
   "cell_type": "markdown",
   "id": "7903d18f-1339-46a0-96a9-4124235765af",
   "metadata": {
    "jp-MarkdownHeadingCollapsed": true
   },
   "source": [
    "# Channel 2 PCG"
   ]
  },
  {
   "cell_type": "code",
   "execution_count": 15,
   "id": "baacdb64-2976-46db-ad09-f2bf41ef2437",
   "metadata": {},
   "outputs": [],
   "source": [
    "# Load the original CSV\n",
    "input_file = r'D:\\JN\\data set\\created dataset\\PCG\\channel_2.csv'\n",
    "output_file = r'D:\\JN\\data set\\created dataset\\PCG\\Resample_pcg_data_2048_channel_2.csv'"
   ]
  },
  {
   "cell_type": "code",
   "execution_count": 16,
   "id": "204c57b6-a6ab-491a-9ecc-03ad163902fa",
   "metadata": {},
   "outputs": [
    {
     "data": {
      "text/plain": [
       "(1976, 8000)"
      ]
     },
     "execution_count": 16,
     "metadata": {},
     "output_type": "execute_result"
    }
   ],
   "source": [
    "# Read the CSV file into a DataFrame\n",
    "data = pd.read_csv(input_file, header=None)\n",
    "data.shape"
   ]
  },
  {
   "cell_type": "code",
   "execution_count": 17,
   "id": "3368576f-5403-4205-8fe1-bafd8ceefc0c",
   "metadata": {},
   "outputs": [
    {
     "data": {
      "text/plain": [
       "(1975, 8000)"
      ]
     },
     "execution_count": 17,
     "metadata": {},
     "output_type": "execute_result"
    }
   ],
   "source": [
    "data = data.iloc[1:].reset_index(drop=True)\n",
    "data.shape"
   ]
  },
  {
   "cell_type": "code",
   "execution_count": 18,
   "id": "3a31a703-fc0f-48a1-a858-366b26f02a6c",
   "metadata": {},
   "outputs": [
    {
     "name": "stdout",
     "output_type": "stream",
     "text": [
      "Resampling complete. Output saved to D:\\JN\\data set\\created dataset\\PCG\\Resample_pcg_data_2048_channel_2.csv\n"
     ]
    }
   ],
   "source": [
    "# Resample each row from 8000 to 2048 samples\n",
    "resampled_data = data.apply(lambda row: resample(row.values, 2048), axis=1)\n",
    "\n",
    "# Convert the result to a DataFrame\n",
    "resampled_df = pd.DataFrame(np.vstack(resampled_data))\n",
    "\n",
    "# Save the new DataFrame to CSV\n",
    "resampled_df.to_csv(output_file, index=False, header=False)\n",
    "\n",
    "print(\"Resampling complete. Output saved to\", output_file)"
   ]
  },
  {
   "cell_type": "markdown",
   "id": "baf1c37d-0aff-4d50-98e7-09047ca313c6",
   "metadata": {
    "jp-MarkdownHeadingCollapsed": true
   },
   "source": [
    "# Channel 3 PCG"
   ]
  },
  {
   "cell_type": "code",
   "execution_count": 19,
   "id": "098c7a69-01e0-4de0-b6d0-923f6937d16f",
   "metadata": {},
   "outputs": [],
   "source": [
    "# Load the original CSV\n",
    "input_file = r'D:\\JN\\data set\\created dataset\\PCG\\channel_3.csv'\n",
    "output_file = r'D:\\JN\\data set\\created dataset\\PCG\\Resample_pcg_data_2048_channel_3.csv'"
   ]
  },
  {
   "cell_type": "code",
   "execution_count": 20,
   "id": "31d31732-e78d-471d-a524-69b30b2e5f54",
   "metadata": {},
   "outputs": [
    {
     "data": {
      "text/plain": [
       "(1976, 8000)"
      ]
     },
     "execution_count": 20,
     "metadata": {},
     "output_type": "execute_result"
    }
   ],
   "source": [
    "# Read the CSV file into a DataFrame\n",
    "data = pd.read_csv(input_file, header=None)\n",
    "data.shape"
   ]
  },
  {
   "cell_type": "code",
   "execution_count": 21,
   "id": "70b1f4d1-6878-483b-978c-b39ffa581c7c",
   "metadata": {},
   "outputs": [
    {
     "data": {
      "text/plain": [
       "(1975, 8000)"
      ]
     },
     "execution_count": 21,
     "metadata": {},
     "output_type": "execute_result"
    }
   ],
   "source": [
    "data = data.iloc[1:].reset_index(drop=True)\n",
    "data.shape"
   ]
  },
  {
   "cell_type": "code",
   "execution_count": 22,
   "id": "1043b741-aabe-4624-bab5-a6005113ab42",
   "metadata": {},
   "outputs": [
    {
     "name": "stdout",
     "output_type": "stream",
     "text": [
      "Resampling complete. Output saved to D:\\JN\\data set\\created dataset\\PCG\\Resample_pcg_data_2048_channel_3.csv\n"
     ]
    }
   ],
   "source": [
    "# Resample each row from 8000 to 2048 samples\n",
    "resampled_data = data.apply(lambda row: resample(row.values, 2048), axis=1)\n",
    "\n",
    "# Convert the result to a DataFrame\n",
    "resampled_df = pd.DataFrame(np.vstack(resampled_data))\n",
    "\n",
    "# Save the new DataFrame to CSV\n",
    "resampled_df.to_csv(output_file, index=False, header=False)\n",
    "\n",
    "print(\"Resampling complete. Output saved to\", output_file)"
   ]
  },
  {
   "cell_type": "markdown",
   "id": "5a38ca67-c7b7-46ce-a984-3a2b709e817b",
   "metadata": {
    "jp-MarkdownHeadingCollapsed": true
   },
   "source": [
    "# channel 4 PCG"
   ]
  },
  {
   "cell_type": "code",
   "execution_count": 23,
   "id": "80a3ca44-bdd2-4403-8ae8-43a23d7aaee6",
   "metadata": {},
   "outputs": [],
   "source": [
    "# Load the original CSV\n",
    "input_file = r'D:\\JN\\data set\\created dataset\\PCG\\channel_4.csv'\n",
    "output_file = r'D:\\JN\\data set\\created dataset\\PCG\\Resample_pcg_data_2048_channel_4.csv'"
   ]
  },
  {
   "cell_type": "code",
   "execution_count": 24,
   "id": "2cd31da0-3987-4fa1-913e-9739da6b74cc",
   "metadata": {},
   "outputs": [
    {
     "data": {
      "text/plain": [
       "(1976, 8000)"
      ]
     },
     "execution_count": 24,
     "metadata": {},
     "output_type": "execute_result"
    }
   ],
   "source": [
    "# Read the CSV file into a DataFrame\n",
    "data = pd.read_csv(input_file, header=None)\n",
    "data.shape"
   ]
  },
  {
   "cell_type": "code",
   "execution_count": 25,
   "id": "f330eec5-5954-4d89-9b66-637fed3acf68",
   "metadata": {},
   "outputs": [
    {
     "data": {
      "text/plain": [
       "(1975, 8000)"
      ]
     },
     "execution_count": 25,
     "metadata": {},
     "output_type": "execute_result"
    }
   ],
   "source": [
    "data = data.iloc[1:].reset_index(drop=True)\n",
    "data.shape"
   ]
  },
  {
   "cell_type": "code",
   "execution_count": 26,
   "id": "e16bebe2-171c-4c01-8ada-6bff85ccf648",
   "metadata": {},
   "outputs": [
    {
     "name": "stdout",
     "output_type": "stream",
     "text": [
      "Resampling complete. Output saved to D:\\JN\\data set\\created dataset\\PCG\\Resample_pcg_data_2048_channel_4.csv\n"
     ]
    }
   ],
   "source": [
    "# Resample each row from 8000 to 2048 samples\n",
    "resampled_data = data.apply(lambda row: resample(row.values, 2048), axis=1)\n",
    "\n",
    "# Convert the result to a DataFrame\n",
    "resampled_df = pd.DataFrame(np.vstack(resampled_data))\n",
    "\n",
    "# Save the new DataFrame to CSV\n",
    "resampled_df.to_csv(output_file, index=False, header=False)\n",
    "\n",
    "print(\"Resampling complete. Output saved to\", output_file)"
   ]
  },
  {
   "cell_type": "code",
   "execution_count": null,
   "id": "bd64dbcd-e7e4-4b3e-971b-5bfea6ee3b28",
   "metadata": {},
   "outputs": [],
   "source": []
  }
 ],
 "metadata": {
  "kernelspec": {
   "display_name": "Python 3 (ipykernel)",
   "language": "python",
   "name": "python3"
  },
  "language_info": {
   "codemirror_mode": {
    "name": "ipython",
    "version": 3
   },
   "file_extension": ".py",
   "mimetype": "text/x-python",
   "name": "python",
   "nbconvert_exporter": "python",
   "pygments_lexer": "ipython3",
   "version": "3.11.5"
  },
  "widgets": {
   "application/vnd.jupyter.widget-state+json": {
    "state": {},
    "version_major": 2,
    "version_minor": 0
   }
  }
 },
 "nbformat": 4,
 "nbformat_minor": 5
}
