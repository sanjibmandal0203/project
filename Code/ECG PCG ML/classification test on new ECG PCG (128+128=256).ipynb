{
 "cells": [
  {
   "cell_type": "code",
   "execution_count": 1,
   "id": "0c32a2b4-08fb-4d68-aec1-3ca1179aea34",
   "metadata": {},
   "outputs": [],
   "source": [
    "import pandas as pd\n",
    "import numpy as np\n",
    "from sklearn.model_selection import train_test_split\n",
    "from sklearn.svm import SVC\n",
    "from sklearn.metrics import accuracy_score"
   ]
  },
  {
   "cell_type": "markdown",
   "id": "bf92c5cb-5439-458d-a83a-44448858ff39",
   "metadata": {},
   "source": [
    "# load data & Split"
   ]
  },
  {
   "cell_type": "code",
   "execution_count": 8,
   "id": "ab7c276f-c573-42b6-9717-bc748064116e",
   "metadata": {},
   "outputs": [],
   "source": [
    "# Load feature and target data\n",
    "features = pd.read_csv(r\"D:\\JN\\data set\\created dataset\\ECG PCG feature(128+128=256).csv\", header=None, skiprows=[0])  # Adjust header based on your CSV format\n",
    "targets = pd.read_csv(r'D:\\JN\\data set\\data from web\\Reference_aug.csv', header=None)"
   ]
  },
  {
   "cell_type": "code",
   "execution_count": 9,
   "id": "7aa45f55-0f93-4f52-9455-43f6b9837280",
   "metadata": {},
   "outputs": [
    {
     "data": {
      "text/plain": [
       "(1975, 256)"
      ]
     },
     "execution_count": 9,
     "metadata": {},
     "output_type": "execute_result"
    }
   ],
   "source": [
    "features.shape"
   ]
  },
  {
   "cell_type": "code",
   "execution_count": 10,
   "id": "fc3d9d20-b2b5-4869-9437-097bb00433cf",
   "metadata": {},
   "outputs": [
    {
     "data": {
      "text/plain": [
       "(1975, 2)"
      ]
     },
     "execution_count": 10,
     "metadata": {},
     "output_type": "execute_result"
    }
   ],
   "source": [
    "targets.shape"
   ]
  },
  {
   "cell_type": "code",
   "execution_count": 11,
   "id": "d0712e22-3535-4c6c-ae40-cb6ff44f5b2a",
   "metadata": {},
   "outputs": [
    {
     "name": "stdout",
     "output_type": "stream",
     "text": [
      "<class 'pandas.core.frame.DataFrame'>\n",
      "RangeIndex: 1975 entries, 0 to 1974\n",
      "Columns: 256 entries, 0 to 255\n",
      "dtypes: float64(256)\n",
      "memory usage: 3.9 MB\n"
     ]
    }
   ],
   "source": [
    "features.info()"
   ]
  },
  {
   "cell_type": "code",
   "execution_count": 12,
   "id": "44c09eb1-1917-428a-a9a1-0aab43e24b6b",
   "metadata": {},
   "outputs": [
    {
     "data": {
      "text/html": [
       "<div>\n",
       "<style scoped>\n",
       "    .dataframe tbody tr th:only-of-type {\n",
       "        vertical-align: middle;\n",
       "    }\n",
       "\n",
       "    .dataframe tbody tr th {\n",
       "        vertical-align: top;\n",
       "    }\n",
       "\n",
       "    .dataframe thead th {\n",
       "        text-align: right;\n",
       "    }\n",
       "</style>\n",
       "<table border=\"1\" class=\"dataframe\">\n",
       "  <thead>\n",
       "    <tr style=\"text-align: right;\">\n",
       "      <th></th>\n",
       "      <th>0</th>\n",
       "      <th>1</th>\n",
       "      <th>2</th>\n",
       "      <th>3</th>\n",
       "      <th>4</th>\n",
       "      <th>5</th>\n",
       "      <th>6</th>\n",
       "      <th>7</th>\n",
       "      <th>8</th>\n",
       "      <th>9</th>\n",
       "      <th>...</th>\n",
       "      <th>246</th>\n",
       "      <th>247</th>\n",
       "      <th>248</th>\n",
       "      <th>249</th>\n",
       "      <th>250</th>\n",
       "      <th>251</th>\n",
       "      <th>252</th>\n",
       "      <th>253</th>\n",
       "      <th>254</th>\n",
       "      <th>255</th>\n",
       "    </tr>\n",
       "  </thead>\n",
       "  <tbody>\n",
       "    <tr>\n",
       "      <th>0</th>\n",
       "      <td>0.0</td>\n",
       "      <td>0.000167</td>\n",
       "      <td>0.0</td>\n",
       "      <td>0.007828</td>\n",
       "      <td>0.0</td>\n",
       "      <td>0.033072</td>\n",
       "      <td>0.055101</td>\n",
       "      <td>0.021074</td>\n",
       "      <td>0.0</td>\n",
       "      <td>0.023533</td>\n",
       "      <td>...</td>\n",
       "      <td>0.0</td>\n",
       "      <td>0.377506</td>\n",
       "      <td>0.103987</td>\n",
       "      <td>0.188215</td>\n",
       "      <td>0.076151</td>\n",
       "      <td>0.254665</td>\n",
       "      <td>0.142509</td>\n",
       "      <td>0.215170</td>\n",
       "      <td>0.395310</td>\n",
       "      <td>0.118617</td>\n",
       "    </tr>\n",
       "    <tr>\n",
       "      <th>1</th>\n",
       "      <td>0.0</td>\n",
       "      <td>0.000000</td>\n",
       "      <td>0.0</td>\n",
       "      <td>0.011951</td>\n",
       "      <td>0.0</td>\n",
       "      <td>0.037525</td>\n",
       "      <td>0.057435</td>\n",
       "      <td>0.023359</td>\n",
       "      <td>0.0</td>\n",
       "      <td>0.020270</td>\n",
       "      <td>...</td>\n",
       "      <td>0.0</td>\n",
       "      <td>0.399821</td>\n",
       "      <td>0.170468</td>\n",
       "      <td>0.241927</td>\n",
       "      <td>0.086639</td>\n",
       "      <td>0.317672</td>\n",
       "      <td>0.142581</td>\n",
       "      <td>0.200751</td>\n",
       "      <td>0.430879</td>\n",
       "      <td>0.154258</td>\n",
       "    </tr>\n",
       "  </tbody>\n",
       "</table>\n",
       "<p>2 rows × 256 columns</p>\n",
       "</div>"
      ],
      "text/plain": [
       "   0         1    2         3    4         5         6         7    8    \\\n",
       "0  0.0  0.000167  0.0  0.007828  0.0  0.033072  0.055101  0.021074  0.0   \n",
       "1  0.0  0.000000  0.0  0.011951  0.0  0.037525  0.057435  0.023359  0.0   \n",
       "\n",
       "        9    ...  246       247       248       249       250       251  \\\n",
       "0  0.023533  ...  0.0  0.377506  0.103987  0.188215  0.076151  0.254665   \n",
       "1  0.020270  ...  0.0  0.399821  0.170468  0.241927  0.086639  0.317672   \n",
       "\n",
       "        252       253       254       255  \n",
       "0  0.142509  0.215170  0.395310  0.118617  \n",
       "1  0.142581  0.200751  0.430879  0.154258  \n",
       "\n",
       "[2 rows x 256 columns]"
      ]
     },
     "execution_count": 12,
     "metadata": {},
     "output_type": "execute_result"
    }
   ],
   "source": [
    "features.head(2)"
   ]
  },
  {
   "cell_type": "code",
   "execution_count": 13,
   "id": "05c11267-d158-4eeb-8541-34ae29673932",
   "metadata": {},
   "outputs": [],
   "source": [
    "# Extract target column\n",
    "y = targets.iloc[:, -1]  # Selecting the last column\n",
    "X = features  # All feature columns"
   ]
  },
  {
   "cell_type": "code",
   "execution_count": 14,
   "id": "0e75fc76-971b-4205-938f-5384c8938a28",
   "metadata": {},
   "outputs": [],
   "source": [
    "# Split data into training and testing sets\n",
    "X_train, X_test, y_train, y_test = train_test_split(X, y, test_size=0.2, random_state=42)"
   ]
  },
  {
   "cell_type": "markdown",
   "id": "93e9d9d4-69b9-44ac-9624-782e44604a22",
   "metadata": {},
   "source": [
    "# algos"
   ]
  },
  {
   "cell_type": "code",
   "execution_count": 15,
   "id": "e217bb93-3ff6-4230-8214-ccb8913d2ff3",
   "metadata": {},
   "outputs": [],
   "source": [
    "from sklearn.metrics import accuracy_score, classification_report, confusion_matrix"
   ]
  },
  {
   "cell_type": "code",
   "execution_count": 16,
   "id": "b35e6341-b9c6-4731-bb43-3a3936fadaef",
   "metadata": {},
   "outputs": [
    {
     "name": "stdout",
     "output_type": "stream",
     "text": [
      "Training Accuracy: 61.84%\n",
      "Testing Accuracy: 58.23%\n",
      "\n",
      "Classification Report (on test data):\n",
      "              precision    recall  f1-score   support\n",
      "\n",
      "          -1       0.55      0.68      0.61       190\n",
      "           1       0.62      0.49      0.55       205\n",
      "\n",
      "    accuracy                           0.58       395\n",
      "   macro avg       0.59      0.59      0.58       395\n",
      "weighted avg       0.59      0.58      0.58       395\n",
      "\n"
     ]
    }
   ],
   "source": [
    "##  LogisticRegression\n",
    "from sklearn.linear_model import LogisticRegression\n",
    "\n",
    "model = LogisticRegression()\n",
    "model.fit(X_train, y_train)\n",
    "# Predict on training and testing data\n",
    "y_train_pred = model.predict(X_train)\n",
    "y_test_pred = model.predict(X_test)\n",
    "\n",
    "# Accuracy scores\n",
    "train_accuracy = accuracy_score(y_train, y_train_pred) * 100\n",
    "test_accuracy = accuracy_score(y_test, y_test_pred) * 100\n",
    "\n",
    "# Print results\n",
    "print(f\"Training Accuracy: {train_accuracy:.2f}%\")\n",
    "print(f\"Testing Accuracy: {test_accuracy:.2f}%\\n\")\n",
    "\n",
    "print(\"Classification Report (on test data):\")\n",
    "print(classification_report(y_test, y_test_pred))"
   ]
  },
  {
   "cell_type": "code",
   "execution_count": 17,
   "id": "5b22865f-bdb1-4ce6-ae37-b875ab393f5c",
   "metadata": {},
   "outputs": [
    {
     "name": "stdout",
     "output_type": "stream",
     "text": [
      "Training Accuracy: 75.38%\n",
      "Testing Accuracy: 56.20%\n",
      "\n",
      "Classification Report (on test data):\n",
      "              precision    recall  f1-score   support\n",
      "\n",
      "          -1       0.54      0.64      0.58       190\n",
      "           1       0.59      0.49      0.54       205\n",
      "\n",
      "    accuracy                           0.56       395\n",
      "   macro avg       0.57      0.56      0.56       395\n",
      "weighted avg       0.57      0.56      0.56       395\n",
      "\n"
     ]
    }
   ],
   "source": [
    "##  KNeighborsClassifier\n",
    "from sklearn.neighbors import KNeighborsClassifier\n",
    "\n",
    "model = KNeighborsClassifier(n_neighbors=5)\n",
    "model.fit(X_train, y_train)\n",
    "# Predict on training and testing data\n",
    "y_train_pred = model.predict(X_train)\n",
    "y_test_pred = model.predict(X_test)\n",
    "\n",
    "# Accuracy scores\n",
    "train_accuracy = accuracy_score(y_train, y_train_pred) * 100\n",
    "test_accuracy = accuracy_score(y_test, y_test_pred) * 100\n",
    "\n",
    "# Print results\n",
    "print(f\"Training Accuracy: {train_accuracy:.2f}%\")\n",
    "print(f\"Testing Accuracy: {test_accuracy:.2f}%\\n\")\n",
    "\n",
    "print(\"Classification Report (on test data):\")\n",
    "print(classification_report(y_test, y_test_pred))"
   ]
  },
  {
   "cell_type": "code",
   "execution_count": 18,
   "id": "72671be9-209f-4171-a9a1-8da5f03c77c1",
   "metadata": {},
   "outputs": [
    {
     "name": "stdout",
     "output_type": "stream",
     "text": [
      "Training Accuracy: 62.53%\n",
      "Testing Accuracy: 57.47%\n",
      "\n",
      "Classification Report (on test data):\n",
      "              precision    recall  f1-score   support\n",
      "\n",
      "          -1       0.55      0.68      0.61       190\n",
      "           1       0.62      0.47      0.54       205\n",
      "\n",
      "    accuracy                           0.57       395\n",
      "   macro avg       0.58      0.58      0.57       395\n",
      "weighted avg       0.58      0.57      0.57       395\n",
      "\n"
     ]
    }
   ],
   "source": [
    "##  SVM\n",
    "from sklearn.svm import SVC\n",
    "\n",
    "model = SVC(kernel='linear')\n",
    "model.fit(X_train, y_train)\n",
    "# Predict on training and testing data\n",
    "y_train_pred = model.predict(X_train)\n",
    "y_test_pred = model.predict(X_test)\n",
    "\n",
    "# Accuracy scores\n",
    "train_accuracy = accuracy_score(y_train, y_train_pred) * 100\n",
    "test_accuracy = accuracy_score(y_test, y_test_pred) * 100\n",
    "\n",
    "# Print results\n",
    "print(f\"Training Accuracy: {train_accuracy:.2f}%\")\n",
    "print(f\"Testing Accuracy: {test_accuracy:.2f}%\\n\")\n",
    "\n",
    "print(\"Classification Report (on test data):\")\n",
    "print(classification_report(y_test, y_test_pred))"
   ]
  },
  {
   "cell_type": "code",
   "execution_count": 19,
   "id": "af5d5f14-c867-4b86-b8bf-9eb9ccb465d9",
   "metadata": {},
   "outputs": [
    {
     "name": "stdout",
     "output_type": "stream",
     "text": [
      "Training Accuracy: 100.00%\n",
      "Testing Accuracy: 60.76%\n",
      "\n",
      "Classification Report (on test data):\n",
      "              precision    recall  f1-score   support\n",
      "\n",
      "          -1       0.58      0.67      0.62       190\n",
      "           1       0.64      0.55      0.59       205\n",
      "\n",
      "    accuracy                           0.61       395\n",
      "   macro avg       0.61      0.61      0.61       395\n",
      "weighted avg       0.61      0.61      0.61       395\n",
      "\n"
     ]
    }
   ],
   "source": [
    "##  Decision Tree\n",
    "from sklearn.tree import DecisionTreeClassifier\n",
    "\n",
    "model = DecisionTreeClassifier()\n",
    "model.fit(X_train, y_train)\n",
    "# Predict on training and testing data\n",
    "y_train_pred = model.predict(X_train)\n",
    "y_test_pred = model.predict(X_test)\n",
    "\n",
    "# Accuracy scores\n",
    "train_accuracy = accuracy_score(y_train, y_train_pred) * 100\n",
    "test_accuracy = accuracy_score(y_test, y_test_pred) * 100\n",
    "\n",
    "# Print results\n",
    "print(f\"Training Accuracy: {train_accuracy:.2f}%\")\n",
    "print(f\"Testing Accuracy: {test_accuracy:.2f}%\\n\")\n",
    "\n",
    "print(\"Classification Report (on test data):\")\n",
    "print(classification_report(y_test, y_test_pred))"
   ]
  },
  {
   "cell_type": "code",
   "execution_count": 20,
   "id": "7b35d5f9-063e-4117-a586-11514c932efe",
   "metadata": {},
   "outputs": [
    {
     "name": "stdout",
     "output_type": "stream",
     "text": [
      "Training Accuracy: 100.00%\n",
      "Testing Accuracy: 72.91%\n",
      "\n",
      "Classification Report (on test data):\n",
      "              precision    recall  f1-score   support\n",
      "\n",
      "          -1       0.70      0.77      0.73       190\n",
      "           1       0.77      0.69      0.72       205\n",
      "\n",
      "    accuracy                           0.73       395\n",
      "   macro avg       0.73      0.73      0.73       395\n",
      "weighted avg       0.73      0.73      0.73       395\n",
      "\n"
     ]
    }
   ],
   "source": [
    "##  Random Forest\n",
    "from sklearn.ensemble import RandomForestClassifier\n",
    "\n",
    "model = RandomForestClassifier(n_estimators=100)\n",
    "model.fit(X_train, y_train)\n",
    "# Predict on training and testing data\n",
    "y_train_pred = model.predict(X_train)\n",
    "y_test_pred = model.predict(X_test)\n",
    "\n",
    "# Accuracy scores\n",
    "train_accuracy = accuracy_score(y_train, y_train_pred) * 100\n",
    "test_accuracy = accuracy_score(y_test, y_test_pred) * 100\n",
    "\n",
    "# Print results\n",
    "print(f\"Training Accuracy: {train_accuracy:.2f}%\")\n",
    "print(f\"Testing Accuracy: {test_accuracy:.2f}%\\n\")\n",
    "\n",
    "print(\"Classification Report (on test data):\")\n",
    "print(classification_report(y_test, y_test_pred))"
   ]
  },
  {
   "cell_type": "code",
   "execution_count": 21,
   "id": "22aac52b-e8b8-47cd-9858-b7852b7643ea",
   "metadata": {},
   "outputs": [
    {
     "name": "stdout",
     "output_type": "stream",
     "text": [
      "Training Accuracy: 62.34%\n",
      "Testing Accuracy: 57.47%\n",
      "\n",
      "Classification Report (on test data):\n",
      "              precision    recall  f1-score   support\n",
      "\n",
      "          -1       0.55      0.68      0.61       190\n",
      "           1       0.62      0.47      0.54       205\n",
      "\n",
      "    accuracy                           0.57       395\n",
      "   macro avg       0.58      0.58      0.57       395\n",
      "weighted avg       0.58      0.57      0.57       395\n",
      "\n"
     ]
    }
   ],
   "source": [
    "##  Naïve Bayes\n",
    "from sklearn.naive_bayes import GaussianNB\n",
    "\n",
    "model = GaussianNB()\n",
    "model.fit(X_train, y_train)\n",
    "# Predict on training and testing data\n",
    "y_train_pred = model.predict(X_train)\n",
    "y_test_pred = model.predict(X_test)\n",
    "\n",
    "# Accuracy scores\n",
    "train_accuracy = accuracy_score(y_train, y_train_pred) * 100\n",
    "test_accuracy = accuracy_score(y_test, y_test_pred) * 100\n",
    "\n",
    "# Print results\n",
    "print(f\"Training Accuracy: {train_accuracy:.2f}%\")\n",
    "print(f\"Testing Accuracy: {test_accuracy:.2f}%\\n\")\n",
    "\n",
    "print(\"Classification Report (on test data):\")\n",
    "print(classification_report(y_test, y_test_pred))"
   ]
  },
  {
   "cell_type": "code",
   "execution_count": 23,
   "id": "2fc3369a-a7d1-4252-930e-016e145516d2",
   "metadata": {},
   "outputs": [],
   "source": [
    "from sklearn.preprocessing import LabelEncoder\n",
    "le = LabelEncoder()\n",
    "y_train = le.fit_transform(y_train)\n",
    "y_test = le.transform(y_test)"
   ]
  },
  {
   "cell_type": "code",
   "execution_count": 24,
   "id": "47a1627c-a230-4514-8b83-114126bec4e2",
   "metadata": {},
   "outputs": [
    {
     "name": "stdout",
     "output_type": "stream",
     "text": [
      "Training Accuracy: 100.00%\n",
      "Testing Accuracy: 73.92%\n",
      "\n",
      "Classification Report (on test data):\n",
      "              precision    recall  f1-score   support\n",
      "\n",
      "           0       0.69      0.83      0.75       190\n",
      "           1       0.80      0.66      0.72       205\n",
      "\n",
      "    accuracy                           0.74       395\n",
      "   macro avg       0.75      0.74      0.74       395\n",
      "weighted avg       0.75      0.74      0.74       395\n",
      "\n"
     ]
    }
   ],
   "source": [
    "##  xgboost\n",
    "from xgboost import XGBClassifier\n",
    "\n",
    "model = XGBClassifier()\n",
    "model.fit(X_train, y_train)\n",
    "# Predict on training and testing data\n",
    "y_train_pred = model.predict(X_train)\n",
    "y_test_pred = model.predict(X_test)\n",
    "\n",
    "# Accuracy scores\n",
    "train_accuracy = accuracy_score(y_train, y_train_pred) * 100\n",
    "test_accuracy = accuracy_score(y_test, y_test_pred) * 100\n",
    "\n",
    "# Print results\n",
    "print(f\"Training Accuracy: {train_accuracy:.2f}%\")\n",
    "print(f\"Testing Accuracy: {test_accuracy:.2f}%\\n\")\n",
    "\n",
    "print(\"Classification Report (on test data):\")\n",
    "print(classification_report(y_test, y_test_pred))"
   ]
  }
 ],
 "metadata": {
  "kernelspec": {
   "display_name": "Python 3 (ipykernel)",
   "language": "python",
   "name": "python3"
  },
  "language_info": {
   "codemirror_mode": {
    "name": "ipython",
    "version": 3
   },
   "file_extension": ".py",
   "mimetype": "text/x-python",
   "name": "python",
   "nbconvert_exporter": "python",
   "pygments_lexer": "ipython3",
   "version": "3.11.5"
  },
  "widgets": {
   "application/vnd.jupyter.widget-state+json": {
    "state": {},
    "version_major": 2,
    "version_minor": 0
   }
  }
 },
 "nbformat": 4,
 "nbformat_minor": 5
}
