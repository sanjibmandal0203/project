{
 "cells": [
  {
   "cell_type": "code",
   "execution_count": 11,
   "id": "f426c2de-90c8-450b-abb8-5b9ce02e6f56",
   "metadata": {},
   "outputs": [],
   "source": [
    "import os\n",
    "import scipy.io\n",
    "import scipy.signal\n",
    "import numpy as np\n",
    "import pandas as pd"
   ]
  },
  {
   "cell_type": "code",
   "execution_count": 12,
   "id": "e21b084b-5701-495c-a994-c70467c5d62e",
   "metadata": {},
   "outputs": [],
   "source": [
    "# Folder containing your .mat files\n",
    "folder_path = 'D:\\JN\\data set\\data from web\\ECG_2000hz_aug'"
   ]
  },
  {
   "cell_type": "code",
   "execution_count": 20,
   "id": "207ee699-579b-403d-af44-5285b2fc1922",
   "metadata": {},
   "outputs": [],
   "source": [
    "# Output CSV file\n",
    "output_csv = r'D:\\JN\\data set\\created dataset\\resampled_ecg_data_with_filenames.csv'"
   ]
  },
  {
   "cell_type": "code",
   "execution_count": 14,
   "id": "a79747bf-54c7-47e2-9c30-f4451d6c0fb4",
   "metadata": {},
   "outputs": [],
   "source": [
    "# Lists to collect file names and data\n",
    "file_names = []\n",
    "resampled_data = []"
   ]
  },
  {
   "cell_type": "code",
   "execution_count": 15,
   "id": "35621485-99ec-41aa-9448-411b20d93072",
   "metadata": {},
   "outputs": [],
   "source": [
    "# Iterate over all .mat files\n",
    "for filename in sorted(os.listdir(folder_path)):\n",
    "    if filename.endswith('.mat'):\n",
    "        file_path = os.path.join(folder_path, filename)\n",
    "\n",
    "        # Load .mat file\n",
    "        mat = scipy.io.loadmat(file_path)\n",
    "\n",
    "        # Extract signal (expecting 16000 samples)\n",
    "        signal = None\n",
    "        for key, value in mat.items():\n",
    "            if isinstance(value, np.ndarray) and value.size == 16000:\n",
    "                signal = value.flatten()\n",
    "                break\n",
    "\n",
    "        if signal is None:\n",
    "            print(f\"Skipping {filename}: No 16000-point signal found.\")\n",
    "            continue\n",
    "\n",
    "        # Resample to 2048 points\n",
    "        resampled = scipy.signal.resample(signal, 2048)\n",
    "\n",
    "        # Store filename and data\n",
    "        file_names.append(filename)\n",
    "        resampled_data.append(resampled)"
   ]
  },
  {
   "cell_type": "code",
   "execution_count": 16,
   "id": "5152f16a-21b9-44d6-a9ef-d80e41b633f2",
   "metadata": {},
   "outputs": [],
   "source": [
    "# Create DataFrame\n",
    "df = pd.DataFrame(resampled_data)"
   ]
  },
  {
   "cell_type": "code",
   "execution_count": 17,
   "id": "18028233-4ef2-4c16-9168-bac0b1c4c786",
   "metadata": {},
   "outputs": [
    {
     "data": {
      "text/plain": [
       "(1975, 2048)"
      ]
     },
     "execution_count": 17,
     "metadata": {},
     "output_type": "execute_result"
    }
   ],
   "source": [
    "df.shape"
   ]
  },
  {
   "cell_type": "code",
   "execution_count": 18,
   "id": "ddba18a1-3725-425d-8b0e-8f3ad633ac9a",
   "metadata": {},
   "outputs": [],
   "source": [
    "# Add filename as the first column\n",
    "df.insert(0, 'filename', file_names)"
   ]
  },
  {
   "cell_type": "code",
   "execution_count": 21,
   "id": "66d7fb14-7868-49a1-ade2-8168a2383900",
   "metadata": {},
   "outputs": [],
   "source": [
    "# Save to CSV\n",
    "df.to_csv(output_csv, index=False)"
   ]
  },
  {
   "cell_type": "code",
   "execution_count": 22,
   "id": "18549849-62a1-4209-b1e6-13e7b1adf81c",
   "metadata": {},
   "outputs": [
    {
     "name": "stdout",
     "output_type": "stream",
     "text": [
      "Done. Saved 1975 entries to D:\\JN\\data set\\created dataset\\resampled_ecg_data_with_filenames.csv\n"
     ]
    }
   ],
   "source": [
    "print(f\"Done. Saved {len(resampled_data)} entries to {output_csv}\")"
   ]
  },
  {
   "cell_type": "code",
   "execution_count": null,
   "id": "96b5a861-6494-4e3b-9d50-d7384ecbfef6",
   "metadata": {},
   "outputs": [],
   "source": []
  }
 ],
 "metadata": {
  "kernelspec": {
   "display_name": "Python 3 (ipykernel)",
   "language": "python",
   "name": "python3"
  },
  "language_info": {
   "codemirror_mode": {
    "name": "ipython",
    "version": 3
   },
   "file_extension": ".py",
   "mimetype": "text/x-python",
   "name": "python",
   "nbconvert_exporter": "python",
   "pygments_lexer": "ipython3",
   "version": "3.11.5"
  }
 },
 "nbformat": 4,
 "nbformat_minor": 5
}
